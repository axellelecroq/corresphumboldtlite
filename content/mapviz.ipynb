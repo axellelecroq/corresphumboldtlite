{
 "cells": [
  {
   "cell_type": "code",
   "execution_count": 2,
   "id": "d68e38bf",
   "metadata": {},
   "outputs": [
    {
     "ename": "ModuleNotFoundError",
     "evalue": "No module named 'piplite'",
     "output_type": "error",
     "traceback": [
      "\u001b[1;31m---------------------------------------------------------------------------\u001b[0m",
      "\u001b[1;31mModuleNotFoundError\u001b[0m                       Traceback (most recent call last)",
      "Cell \u001b[1;32mIn [2], line 1\u001b[0m\n\u001b[1;32m----> 1\u001b[0m \u001b[38;5;28;01mimport\u001b[39;00m \u001b[38;5;21;01mpiplite\u001b[39;00m\n\u001b[0;32m      2\u001b[0m \u001b[38;5;28;01mawait\u001b[39;00m piplite\u001b[38;5;241m.\u001b[39minstall(\u001b[38;5;124m'\u001b[39m\u001b[38;5;124mipywidgets\u001b[39m\u001b[38;5;124m'\u001b[39m)\n\u001b[0;32m      3\u001b[0m \u001b[38;5;28;01mawait\u001b[39;00m piplite\u001b[38;5;241m.\u001b[39minstall(\u001b[38;5;124m'\u001b[39m\u001b[38;5;124mpandas\u001b[39m\u001b[38;5;124m'\u001b[39m)\n",
      "\u001b[1;31mModuleNotFoundError\u001b[0m: No module named 'piplite'"
     ]
    }
   ],
   "source": [
    "import piplite\n",
    "await piplite.install('ipywidgets')\n",
    "await piplite.install('pandas')\n",
    "await piplite.install('matplotlib')\n",
    "await piplite.install('geopy')\n",
    "await piplite.install('pivottablejs')\n",
    "await piplite.install('ipyleaflet')\n",
    "await piplite.install('gender_guesser')\n",
    "\n",
    "from ipywidgets import HBox\n",
    "import numpy as np\n",
    "from nested_lookup import nested_lookup\n",
    "import matplotlib.pyplot as plt\n",
    "import gender_guesser.detector as gender\n",
    "from IPython.display import display\n",
    "\n",
    "from utils.widgets import *\n",
    "from utils.search_dynamic import *\n",
    "from utils.prepare_data import getJSON\n",
    "from utils.mapviz import *\n",
    "from utils.women import *\n",
    "\n",
    "data = getJSON('data/records.json')"
   ]
  },
  {
   "cell_type": "markdown",
   "id": "61fb41f4",
   "metadata": {},
   "source": [
    "## Librairies\n",
    "You may install these librairies to use this notebook, if you already didn't run the requirement of the githubs repository. To install them, remove the # before the lines."
   ]
  },
  {
   "cell_type": "code",
   "execution_count": null,
   "id": "ee5f2a2c",
   "metadata": {},
   "outputs": [],
   "source": [
    "#!pip install ipyleaflet\n",
    "#!pip install unidecode\n",
    "#!pip install gender_guesser\n",
    "#!pip install matplotlib"
   ]
  },
  {
   "cell_type": "markdown",
   "id": "2f0a17d8",
   "metadata": {},
   "source": [
    "## Show all the letters on a map\n",
    "The first map shows all the letters sent and received by Alexander von Humboldt during his lifetime. The radius of the circle corresponds to the number of letters sent or received in that city. Each point therefore represents one or more letters. You can click directly on the dots to find out the exact number and to get more information about the letters."
   ]
  },
  {
   "cell_type": "code",
   "execution_count": null,
   "id": "9a1c6f96",
   "metadata": {},
   "outputs": [],
   "source": [
    "all_on_map(data, 'coverage_location')"
   ]
  },
  {
   "cell_type": "markdown",
   "id": "48708120",
   "metadata": {},
   "source": [
    "This map represents all the letters sent and received by Alexander von Humboldt throughout his life. Each letter is represented by a dot. Each period of Alexander von Humboldt's life is represented by a colour, randomly defined by the programme. The darker the dot, the more letters were sent or received in that city. To find out the name of the city, you can click directly on the point on the map.\n",
    "\n",
    "_This map may take some time to display._"
   ]
  },
  {
   "cell_type": "code",
   "execution_count": null,
   "id": "559fbed8",
   "metadata": {},
   "outputs": [],
   "source": [
    "map_by_period(sorted_by_period(data), 'coverage_location')"
   ]
  },
  {
   "cell_type": "markdown",
   "id": "3a18c2bb",
   "metadata": {},
   "source": [
    "## Search by date with map visualisation\n",
    "The result of the search appears if there is only one letter left in the results or if there are no additional elements that would allow to deepen the search. \n",
    "To start a new search, please click on the \"New search\" button.\n",
    "\n",
    "#### What data is used in the search?\n",
    "The letters from Kalliope, the BnF and APS catalogues.\n",
    "The data from the BBAW's research aid is not represented here because the place of delivery of the letters has not yet been digitally recorded. \n",
    "\n",
    "#### How is the result presented?\n",
    "The result is represented on a world map. The points shown are the places where the letters were sent or received. As no difference has been made in the encoding of the letters in Kalliope, it is not possible to distinguish which place is the sending and receiving place. \n",
    "For some letters, no location is known and are therefore not shown on this map. \n",
    "Each point on the map is clickable and shows the information of the corresponding letter or letters. Thus, the city is mentioned as well as the exact date when known, the sender and the addressee, together with the place where the letter is currently kept. The link to the catalogue is also available.\n",
    "Please note that only the information of 3 letters can be presented on the pop up. Thus, if more than three letters were sent to this location in the selected year, only the number of letters sent is mentioned but the individual information of each letter is not presented. \n",
    "To make sure that you have access to all the letters in the database for a selected date, please do a search in the jupyter notebook `search.ipynb` instead.\n"
   ]
  },
  {
   "cell_type": "code",
   "execution_count": null,
   "id": "85e96925",
   "metadata": {},
   "outputs": [],
   "source": [
    "map_by_date()"
   ]
  },
  {
   "cell_type": "markdown",
   "id": "7ae1ff10",
   "metadata": {},
   "source": [
    "## Letters exchanged through time between a correspondence partner and AvH\n",
    "The result of the search appears on a histogramm. It is possible that nothing is shown on the histogramm for some correspondence partner. That means that for all the letters sent between this person and AvH, no dates are known or have been recorded by the online catalogues. This also means that only letters with a known date are represented on the histogram.\n",
    "\n",
    "To start a new search, please click on the \"New search\" button."
   ]
  },
  {
   "cell_type": "code",
   "execution_count": null,
   "id": "a0d3ca6a",
   "metadata": {},
   "outputs": [],
   "source": [
    "display(HBox([by_person(data), btn_new_search()]))"
   ]
  },
  {
   "cell_type": "markdown",
   "id": "43cabe06",
   "metadata": {},
   "source": [
    "## Age distribution of correspondence partners of AvH\n",
    "There is a hypothesis that the older Alexander von Humboldt got, the more he corresponded with younger researchers. With these graphs we have sought, not to answer this question entirely, but to find out the age distribution of AvH's correspondents over time. Of course, these graphs are biased by the data themselves: the data from the letters we use is only a sample of what is preserved today. What is preserved today is also only a tiny part of all the correspondence of AvH who did not keep all the letters he received when he was travelling for example. "
   ]
  },
  {
   "cell_type": "code",
   "execution_count": null,
   "id": "69471904",
   "metadata": {},
   "outputs": [],
   "source": [
    "age_distribution()"
   ]
  },
  {
   "cell_type": "markdown",
   "id": "da233d15",
   "metadata": {},
   "source": [
    "## Age frequency of correspondence partners\n",
    "The result of the search appears on a histogramm. "
   ]
  },
  {
   "cell_type": "code",
   "execution_count": null,
   "id": "dbf47433",
   "metadata": {},
   "outputs": [],
   "source": [
    "fig= plt.figure(figsize=(10,5))\n",
    "plt.hist(y_coords, bins=15)\n",
    "fig.suptitle('Age frequency', fontsize=12)\n",
    "plt.xlabel('Age', fontsize=12)\n",
    "plt.ylabel('#', fontsize=12)\n",
    "plt.show()"
   ]
  },
  {
   "cell_type": "markdown",
   "id": "4fcbdb9d",
   "metadata": {},
   "source": [
    "## Women in AvH's correspondence\n",
    "\n",
    "#### Some figures and facts\n",
    "- Humboldt received 8 letters from women and sent 61 letters to women.\n",
    "- Many are duchess, countess or even queen. \n",
    "- 2.3% of Humboldt's correspondence was sent to women. \n",
    "- 0.7% is the proportion of letters to AvH written by women.\n",
    "- If we consider these figure, Humboldt wrote more letters to women than he received from them. But is it the historical truth ?\n",
    "- All letters together correspond to 1.8% of AvH correspondence.\n",
    "\n",
    "Like the previous graphs, this section on Humboldt's female correspondence is biased by current data and sources. The data from the letters we use is only a sample of what is preserved today. What is preserved today is also only a tiny part of all the correspondence of AvH who did not keep all the letters he received when he was travelling for example.\n",
    "\n",
    "#### How is the result presented?\n",
    "Two visualisations are proposed: \n",
    "1. The world map with the points where the corresponding letters are kept. \n",
    "2. The histogram of the exchanges between AvH and the selected person. It is possible that the histogram does not show any data, this means that no sending date is known for the corresponding letters. \n"
   ]
  },
  {
   "cell_type": "code",
   "execution_count": null,
   "id": "db65cf92",
   "metadata": {},
   "outputs": [],
   "source": [
    "display(HBox([by_women(women_partner()), btn_new_search()]))"
   ]
  }
 ],
 "metadata": {
  "kernelspec": {
   "display_name": "Python 3.9.12 64-bit",
   "language": "python",
   "name": "python3"
  },
  "language_info": {
   "codemirror_mode": {
    "name": "ipython",
    "version": 3
   },
   "file_extension": ".py",
   "mimetype": "text/x-python",
   "name": "python",
   "nbconvert_exporter": "python",
   "pygments_lexer": "ipython3",
   "version": "3.9.12"
  },
  "vscode": {
   "interpreter": {
    "hash": "41c58de7ac7579c6367e24c48b5a0d6a80a77025c7561f5ec68f016abbdb1294"
   }
  }
 },
 "nbformat": 4,
 "nbformat_minor": 5
}
