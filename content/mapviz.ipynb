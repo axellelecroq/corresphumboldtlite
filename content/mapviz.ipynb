{
 "cells": [
  {
   "cell_type": "code",
   "execution_count": 6,
   "id": "d68e38bf",
   "metadata": {},
   "outputs": [],
   "source": [
    "#import piplite\n",
    "#await piplite.install('ipywidgets')\n",
    "#await piplite.install('pandas')\n",
    "#await piplite.install('matplotlib')\n",
    "#await piplite.install('geopy')\n",
    "#await piplite.install('pivottablejs')\n",
    "#await piplite.install('ipyleaflet')\n",
    "#await piplite.install('gender_guesser')\n",
    "\n",
    "from ipywidgets import HBox\n",
    "import numpy as np\n",
    "import pandas as pd\n",
    "import matplotlib.pyplot as plt\n",
    "#import gender_guesser.detector as gender\n",
    "from IPython.display import display\n",
    "\n",
    "from utils.widgets import *\n",
    "from utils.prepare_data import getJSON\n",
    "from utils.mapviz import *\n",
    "\n",
    "data = getJSON('data/records.json')"
   ]
  },
  {
   "cell_type": "markdown",
   "id": "61fb41f4",
   "metadata": {},
   "source": [
    "## Librairies\n",
    "You may install these librairies to use this notebook, if you already didn't run the requirement of the githubs repository. To install them, remove the # before the lines."
   ]
  },
  {
   "cell_type": "code",
   "execution_count": null,
   "id": "c72198f6",
   "metadata": {},
   "outputs": [],
   "source": [
    "#!pip install ipyleaflet\n",
    "#!pip install unidecode\n",
    "#!pip install gender_guesser\n",
    "#!pip install matplotlib"
   ]
  },
  {
   "attachments": {},
   "cell_type": "markdown",
   "id": "104bbd8c",
   "metadata": {},
   "source": [
    "# Data\n",
    "#### What data is used?\n",
    "The letters from Kalliope, the BnF and APS catalogues.\n",
    "The data from the BBAW's research aid is not represented here because the place of delivery of the letters has not yet been digitally recorded. "
   ]
  },
  {
   "cell_type": "code",
   "execution_count": null,
   "id": "14737500",
   "metadata": {},
   "outputs": [],
   "source": [
    "df = pd.json_normalize(data)\n",
    "pd.DataFrame(df)"
   ]
  },
  {
   "attachments": {},
   "cell_type": "markdown",
   "id": "f71a62b9",
   "metadata": {},
   "source": [
    "#### How are data represented?\n",
    "In this jupyter notebook there are different kind of data visualizations. The most use data visualisation is the map visualization, a wolrd map. The points shown are the places where the letters were sent or received. As no difference has been made in the encoding of the letters in Kalliope, it is not possible to distinguish which place is the sending and receiving place. The coordinate of the letter's contributor is also recorded and can be shown on a map. For some letters, no location is known and can therefore not shown on this map. \n"
   ]
  },
  {
   "cell_type": "code",
   "execution_count": null,
   "id": "b6ca9e03",
   "metadata": {},
   "outputs": [],
   "source": [
    "recordedCoordinatePlot()\n",
    "languagePlot()"
   ]
  },
  {
   "attachments": {},
   "cell_type": "markdown",
   "id": "d52310bd",
   "metadata": {},
   "source": [
    "## Map interactivity\n",
    "Each point on the map is clickable and shows the information of the corresponding letter or letters. Thus, the city is mentioned as well as the exact date when known, the sender and the addressee, together with the place where the letter is currently kept. The link to the catalogue is also available.\n",
    "Please note that only the information of 3 letters can be presented on the pop up. Thus, if more than three letters were sent to this location in the selected year, only the number of letters sent is mentioned but the individual information of each letter is not presented. "
   ]
  },
  {
   "cell_type": "markdown",
   "id": "2f0a17d8",
   "metadata": {},
   "source": [
    "## Show all the letters on a map\n",
    "1. Show all letters: show all letter sent and received by Alexander von Humboldt during his lifetime. Because all the database is here shown, it could be take a few seconds to show the map. Be patient.\n",
    "2. Show all contributors: show all the contributors of our database.\n",
    "\n",
    "*The radius of the circle corresponds to the number of letters sent or received in that city. Each point therefore represents one or more letters. You can click directly on the dots to find out the exact number and to get more information about the letters.*"
   ]
  },
  {
   "cell_type": "code",
   "execution_count": null,
   "id": "02be8c0f",
   "metadata": {},
   "outputs": [],
   "source": [
    "mapByLocationType()"
   ]
  },
  {
   "cell_type": "markdown",
   "id": "48708120",
   "metadata": {},
   "source": [
    "This map represents all the letters sent and received by Alexander von Humboldt throughout his life. Each letter is represented by a dot. Each period of Alexander von Humboldt's life is represented by a colour, randomly defined by the programme. The darker the dot, the more letters were sent or received in that city. To find out the name of the city, you can click directly on the point on the map.\n",
    "\n",
    "_This map may take some time to display._"
   ]
  },
  {
   "cell_type": "code",
   "execution_count": null,
   "id": "559fbed8",
   "metadata": {},
   "outputs": [],
   "source": [
    "mapByPeriod()"
   ]
  },
  {
   "cell_type": "markdown",
   "id": "3a18c2bb",
   "metadata": {},
   "source": [
    "## Visualisation by date"
   ]
  },
  {
   "cell_type": "code",
   "execution_count": null,
   "id": "85e96925",
   "metadata": {},
   "outputs": [],
   "source": [
    "map_by_date()"
   ]
  },
  {
   "cell_type": "markdown",
   "id": "8ac45d83",
   "metadata": {},
   "source": [
    "## Visualisation by name\n",
    "### Show the letter exchange between Alexander von Humboldt and someone else on a map"
   ]
  },
  {
   "cell_type": "code",
   "execution_count": null,
   "id": "380165db",
   "metadata": {},
   "outputs": [],
   "source": [
    "map_by_person()"
   ]
  },
  {
   "cell_type": "markdown",
   "id": "7ae1ff10",
   "metadata": {},
   "source": [
    "## Quantify: letters exchanged through time between a correspondence partner and AvH\n",
    "The result of the search appears on a histogramm. It is possible that nothing is shown on the histogramm for some correspondence partner. That means that for all the letters sent between this person and AvH, no dates are known or have been recorded by the online catalogues. This also means that only letters with a known date are represented on the histogram.\n",
    "\n",
    "To start a new search, please click on the \"New search\" button."
   ]
  },
  {
   "cell_type": "code",
   "execution_count": null,
   "id": "a0d3ca6a",
   "metadata": {},
   "outputs": [],
   "source": [
    "histogramm_by_person(all=True)"
   ]
  },
  {
   "cell_type": "markdown",
   "id": "43cabe06",
   "metadata": {},
   "source": [
    "## Age distribution of correspondence partners of AvH\n",
    "There is a hypothesis that the older Alexander von Humboldt got, the more he corresponded with younger researchers. With these graphs we have sought, not to answer this question entirely, but to find out the age distribution of AvH's correspondents over time. Of course, these graphs are biased by the data themselves: the data from the letters we use is only a sample of what is preserved today. What is preserved today is also only a tiny part of all the correspondence of AvH who did not keep all the letters he received when he was travelling for example. "
   ]
  },
  {
   "cell_type": "code",
   "execution_count": null,
   "id": "69471904",
   "metadata": {},
   "outputs": [],
   "source": [
    "age_distribution()"
   ]
  },
  {
   "cell_type": "markdown",
   "id": "4fcbdb9d",
   "metadata": {},
   "source": [
    "## Women in AvH's correspondence\n",
    "\n",
    "#### Some figures and facts\n",
    "- Humboldt received 8 letters from women and sent 61 letters to women.\n",
    "- Many are duchess, countess or even queen. \n",
    "- 2.3% of Humboldt's correspondence was sent to women. \n",
    "- 0.7% is the proportion of letters to AvH written by women.\n",
    "- If we consider these figure, Humboldt wrote more letters to women than he received from them. But is it the historical truth ?\n",
    "- All letters together correspond to 1.8% of AvH correspondence.\n",
    "\n",
    "Like the previous graphs, this section on Humboldt's female correspondence is biased by current data and sources. The data from the letters we use is only a sample of what is preserved today. What is preserved today is also only a tiny part of all the correspondence of AvH who did not keep all the letters he received when he was travelling for example.\n",
    "\n",
    "#### How is the result presented?\n",
    "Two visualisations are proposed: \n",
    "1. The world map with the points where the corresponding letters are kept. \n",
    "2. The histogram of the exchanges between AvH and the selected person. It is possible that the histogram does not show any data, this means that no sending date is known for the corresponding letters. \n"
   ]
  },
  {
   "cell_type": "code",
   "execution_count": null,
   "id": "db65cf92",
   "metadata": {},
   "outputs": [],
   "source": [
    "histogramm_by_person(all=False)"
   ]
  }
 ],
 "metadata": {
  "kernelspec": {
   "display_name": "Python 3.9.12 64-bit",
   "language": "python",
   "name": "python3"
  },
  "language_info": {
   "codemirror_mode": {
    "name": "ipython",
    "version": 3
   },
   "file_extension": ".py",
   "mimetype": "text/x-python",
   "name": "python",
   "nbconvert_exporter": "python",
   "pygments_lexer": "ipython3",
   "version": "3.9.12 (tags/v3.9.12:b28265d, Mar 23 2022, 23:52:46) [MSC v.1929 64 bit (AMD64)]"
  },
  "vscode": {
   "interpreter": {
    "hash": "41c58de7ac7579c6367e24c48b5a0d6a80a77025c7561f5ec68f016abbdb1294"
   }
  }
 },
 "nbformat": 4,
 "nbformat_minor": 5
}
