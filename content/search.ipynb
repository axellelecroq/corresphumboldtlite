{
 "cells": [
  {
   "cell_type": "code",
   "execution_count": 1,
   "id": "6d3cd57a",
   "metadata": {},
   "outputs": [
    {
     "ename": "ModuleNotFoundError",
     "evalue": "No module named 'pivottablejs'",
     "output_type": "error",
     "traceback": [
      "\u001b[1;31m---------------------------------------------------------------------------\u001b[0m",
      "\u001b[1;31mModuleNotFoundError\u001b[0m                       Traceback (most recent call last)",
      "Cell \u001b[1;32mIn [1], line 5\u001b[0m\n\u001b[0;32m      2\u001b[0m get_ipython()\u001b[38;5;241m.\u001b[39mrun_line_magic(\u001b[38;5;124m'\u001b[39m\u001b[38;5;124mautoreload\u001b[39m\u001b[38;5;124m'\u001b[39m, \u001b[38;5;124m'\u001b[39m\u001b[38;5;124m2\u001b[39m\u001b[38;5;124m'\u001b[39m)\n\u001b[0;32m      3\u001b[0m get_ipython()\u001b[38;5;241m.\u001b[39mrun_line_magic(\u001b[38;5;124m'\u001b[39m\u001b[38;5;124mreload_ext\u001b[39m\u001b[38;5;124m'\u001b[39m, \u001b[38;5;124m'\u001b[39m\u001b[38;5;124mautoreload\u001b[39m\u001b[38;5;124m'\u001b[39m)\n\u001b[1;32m----> 5\u001b[0m \u001b[38;5;28;01mfrom\u001b[39;00m \u001b[38;5;21;01mpivottablejs\u001b[39;00m \u001b[38;5;28;01mimport\u001b[39;00m pivot_ui\n\u001b[0;32m      6\u001b[0m \u001b[38;5;28;01mimport\u001b[39;00m \u001b[38;5;21;01mpandas\u001b[39;00m \u001b[38;5;28;01mas\u001b[39;00m \u001b[38;5;21;01mpd\u001b[39;00m  \n\u001b[0;32m      7\u001b[0m \u001b[38;5;28;01mimport\u001b[39;00m \u001b[38;5;21;01mjson\u001b[39;00m\n",
      "\u001b[1;31mModuleNotFoundError\u001b[0m: No module named 'pivottablejs'"
     ]
    }
   ],
   "source": [
    "%load_ext autoreload\n",
    "%autoreload 2\n",
    "%reload_ext autoreload\n",
    "\n",
    "from pivottablejs import pivot_ui\n",
    "import pandas as pd  \n",
    "import json\n",
    "from ipywidgets import Button, HBox, VBox\n",
    "\n",
    "from utils.search_dynamic import *\n",
    "from utils.search_by import *\n",
    "from utils.prepare_data import *\n",
    "from utils.widgets import *\n",
    "\n",
    "\n",
    "d = getJSON(\"data/records.json\")\n",
    "df = pd.json_normalize(d)"
   ]
  },
  {
   "cell_type": "markdown",
   "id": "e92147cf",
   "metadata": {},
   "source": [
    "#### Librairies \n",
    "You may install these librairies to use this notebook, if you already didn't run the requirement of the githubs repository.\n",
    "To install them, remove the # before the lines."
   ]
  },
  {
   "cell_type": "code",
   "execution_count": null,
   "id": "50f81625",
   "metadata": {},
   "outputs": [],
   "source": [
    "#!pip install matplotlib\n",
    "#!pip install ipywidgets\n",
    "#!pip install pandas\n",
    "#!pip install geopy\n",
    "#!pip install pivottablejs\n",
    "#!pip install nested_lookup"
   ]
  },
  {
   "cell_type": "markdown",
   "id": "b2da4cf1",
   "metadata": {},
   "source": [
    "## Show the data\n",
    "The data are from [Kalliope](https://kalliope-verbund.info/), the [catalog of the Bibliothèque nationale de France](https://catalogue.bnf.fr/index.do) and the [American Philosophical Society](https://www.amphilsoc.org/).\n",
    "In the `records.json` file, there are letters from Alexander von Humboldt but also letters which are sent to Alexander von Humboldt."
   ]
  },
  {
   "cell_type": "code",
   "execution_count": null,
   "id": "5cfd7445",
   "metadata": {},
   "outputs": [],
   "source": [
    "pd.DataFrame(df)"
   ]
  },
  {
   "cell_type": "markdown",
   "id": "7cb6bd0c",
   "metadata": {},
   "source": [
    "## Pivot with all the data"
   ]
  },
  {
   "cell_type": "code",
   "execution_count": null,
   "id": "99297c01",
   "metadata": {},
   "outputs": [],
   "source": [
    "pivot_ui(df)"
   ]
  },
  {
   "cell_type": "markdown",
   "id": "33a2a3a3",
   "metadata": {},
   "source": [
    "# Dynamic search\n",
    "The dynamic search allows you to search for a letter using different elements: its date, its sender, its addressee, its place of delivery and finally the institution where the letter is currently stored.\n",
    "The result of the search appears if there is only one letter left in the results or if there are no additional elements that would allow to deepen the search. \n",
    "To start a new search, please click on the \"New search\" button.\n",
    "\n",
    "**What data is used in the search?**\n",
    "The letters from Kalliope, the BnF and APS catalogues and a BBAW search aid listing the institutions holding letters or documents relating to Alexander von Humboldt. This research aid, existing in a single copy and representing the analogous collection of the BBAW, was digitally reproduced by Anne McKinney during her internship within the project \"Travelling Humboldt – Science on the Move\".\n",
    "\n",
    "**How is the result presented?**\n",
    "If only one letter is found in the results, then it is the catalogue page of the institution storing that letter that is shown. If a digitization is available, then it is easy to find the link on the catalogue page to the digitization.\n",
    "If all the elements searched do not yield a single specific letter, then the letters are displayed in table form (dataframe). "
   ]
  },
  {
   "cell_type": "code",
   "execution_count": null,
   "id": "fc19c75c",
   "metadata": {},
   "outputs": [],
   "source": [
    "searching_by = ['Sender letters (to AvH)', 'Addressee letters (by AvH)', 'Stockholding institution', 'Date', 'Coverage place']\n",
    "\n",
    "display(HBox([search(d, searching_by, True), btn_new_search()]))"
   ]
  },
  {
   "cell_type": "markdown",
   "id": "90678358",
   "metadata": {},
   "source": [
    "## Letters to Alexander von Humboldt\n",
    "Actual count of senders to AvH : 582\n"
   ]
  },
  {
   "cell_type": "code",
   "execution_count": null,
   "id": "22e03c7b",
   "metadata": {},
   "outputs": [],
   "source": [
    "display(HBox([search_creators(d), btn_new_search()]))"
   ]
  },
  {
   "cell_type": "markdown",
   "id": "81df1386",
   "metadata": {},
   "source": [
    "## Letters from Alexander von Humboldt\n",
    "Actual count of addressees: 570"
   ]
  },
  {
   "cell_type": "code",
   "execution_count": null,
   "id": "f998b0a3",
   "metadata": {},
   "outputs": [],
   "source": [
    "display(HBox([search_recipient(d), btn_new_search()]))"
   ]
  },
  {
   "cell_type": "markdown",
   "id": "f79fcba8",
   "metadata": {},
   "source": [
    "## Search by stockholding institutions\n",
    "\n",
    "#### How many institutions ?\n",
    "With the APS, the BnF, the 70 institutions who put their data on Kalliope and have a letter sent or received by Humboldt and the institutions in the BBAW's research aid, it is possible to search for a letter in just over 310 institutions. \n",
    "\n",
    "#### Information from the BBAW's research aid\n",
    "The BBAW's research aid lists the type and quantity of each type of document related to Alexander von Humboldt that an institution holds. Nevertheless, the BBAW's collection is far from exhaustive and is not up to date with what the institutions listed in it keep. However, it was important for the project to compare the data, to know what was known by the BBAW in the past and the actual online results from the institutions. Thus, in addition to the table representing the various letters held by the selected institution, the information from the research aid is also displayed. Although the precise details have not yet been digitally indexed, it is nevertheless possible to get an overview of the number and type of documents that were kept in this institution. \n",
    "The box number where the document is kept in the BBAW is also shown in parentheses. \n",
    "\n",
    "#### How many documents ?\n",
    "An entry in the database does not necessarily represent a letter, but may present a set of documents. This is often the case with data from the BnF for example. Thus, there may be several results but these results are not representative of the number of letters or individual documents held in the institution. Thus, where possible, it is indicated more precisely what type of document and in what quantity the results contain."
   ]
  },
  {
   "cell_type": "code",
   "execution_count": null,
   "id": "ede4cb45",
   "metadata": {},
   "outputs": [],
   "source": [
    "display(HBox([search_institutions(d), btn_new_search()]))"
   ]
  },
  {
   "cell_type": "markdown",
   "id": "d5b84382",
   "metadata": {},
   "source": [
    "## Search by places where letters were sent\n",
    "Actual count of places : 351"
   ]
  },
  {
   "cell_type": "code",
   "execution_count": null,
   "id": "cb8e4b0a",
   "metadata": {
    "tags": [
     "outputPrepend"
    ]
   },
   "outputs": [],
   "source": [
    "display(HBox([search_cvg_places(d), btn_new_search()]))"
   ]
  },
  {
   "cell_type": "markdown",
   "id": "68e799f5",
   "metadata": {},
   "source": [
    "## Search by date\n",
    "This is a search by year and not by specific date. \n",
    "When only one letter is recorded then the web page of the online catalogue is shown, otherwise the result is shown in table form. "
   ]
  },
  {
   "cell_type": "code",
   "execution_count": null,
   "id": "79d50391",
   "metadata": {},
   "outputs": [],
   "source": [
    "display(HBox([search_date(d), btn_new_search()]))"
   ]
  }
 ],
 "metadata": {
  "kernelspec": {
   "display_name": "Python 3.9.12 64-bit",
   "language": "python",
   "name": "python3"
  },
  "language_info": {
   "codemirror_mode": {
    "name": "ipython",
    "version": 3
   },
   "file_extension": ".py",
   "mimetype": "text/x-python",
   "name": "python",
   "nbconvert_exporter": "python",
   "pygments_lexer": "ipython3",
   "version": "3.9.12"
  },
  "vscode": {
   "interpreter": {
    "hash": "41c58de7ac7579c6367e24c48b5a0d6a80a77025c7561f5ec68f016abbdb1294"
   }
  }
 },
 "nbformat": 4,
 "nbformat_minor": 5
}
